{
 "cells": [
  {
   "cell_type": "markdown",
   "id": "7457feb0",
   "metadata": {},
   "source": [
    "### 字典"
   ]
  },
  {
   "cell_type": "code",
   "execution_count": 1,
   "id": "4f0b0f24",
   "metadata": {},
   "outputs": [],
   "source": [
    "# 什么是字典\n",
    "# python的内置数据结构之一，与列表一样是一个可变序列\n",
    "# 以键值对的方式存储数据，字典是一个无序的序列\n",
    "# 可变序列是指 可以增删改操作\n",
    "# 列表 [], 字典{}\n",
    "# 字典当中是以一对一对的方式来存储\n",
    "# 列表是 一个一个的\n",
    "# 是通过 \"哈希函数\"计算得来的顺序\n",
    "# 必须是不可变序列，\n",
    "# str 就是不可变序列，不可以增删改操作\n",
    "# 整数以及字符串都是不可变序列\n",
    "# 列表 字典都可以执行增删改操作"
   ]
  },
  {
   "cell_type": "markdown",
   "id": "1980472e",
   "metadata": {},
   "source": [
    "### 字典的创建"
   ]
  },
  {
   "cell_type": "code",
   "execution_count": 5,
   "id": "32134fee",
   "metadata": {},
   "outputs": [
    {
     "name": "stdout",
     "output_type": "stream",
     "text": [
      "{'张三': 100, '李四': 98, '王五': 45}\n"
     ]
    },
    {
     "data": {
      "text/plain": [
       "dict"
      ]
     },
     "execution_count": 5,
     "metadata": {},
     "output_type": "execute_result"
    }
   ],
   "source": [
    "# scores{}\n",
    "# dict()\n",
    "import numpy as np\n",
    "import pandas as np\n",
    "scores = {'张三':100,'李四':98,'王五':45}\n",
    "print(scores)\n",
    "type(scores)"
   ]
  },
  {
   "cell_type": "code",
   "execution_count": 7,
   "id": "f25a8f19",
   "metadata": {},
   "outputs": [
    {
     "data": {
      "text/plain": [
       "{'name': 'jack', 'age': 20}"
      ]
     },
     "execution_count": 7,
     "metadata": {},
     "output_type": "execute_result"
    }
   ],
   "source": [
    "# dict()\n",
    "student = dict(name = 'jack',age = 20)\n",
    "student "
   ]
  },
  {
   "cell_type": "code",
   "execution_count": 8,
   "id": "0743294e",
   "metadata": {},
   "outputs": [
    {
     "data": {
      "text/plain": [
       "{}"
      ]
     },
     "execution_count": 8,
     "metadata": {},
     "output_type": "execute_result"
    }
   ],
   "source": [
    "d = {}\n",
    "d\n",
    "# 空字典"
   ]
  },
  {
   "cell_type": "markdown",
   "id": "8e31859d",
   "metadata": {},
   "source": [
    "### 字典的常用操作"
   ]
  },
  {
   "cell_type": "code",
   "execution_count": 17,
   "id": "0e9d7f8e",
   "metadata": {},
   "outputs": [],
   "source": [
    "scores = {'Lee':100,'James':98,'Kobe':45}\n",
    "# 获取字典中的元素"
   ]
  },
  {
   "cell_type": "code",
   "execution_count": 18,
   "id": "7dc9a43b",
   "metadata": {},
   "outputs": [
    {
     "name": "stdout",
     "output_type": "stream",
     "text": [
      "100\n"
     ]
    }
   ],
   "source": [
    "# 第一种方式\n",
    "print(scores['Lee'])\n",
    "# print(scores['jack'])\n",
    "# 如果写一个不存在的会报错"
   ]
  },
  {
   "cell_type": "code",
   "execution_count": 19,
   "id": "78907b2b",
   "metadata": {},
   "outputs": [
    {
     "name": "stdout",
     "output_type": "stream",
     "text": [
      "100\n",
      "None\n"
     ]
    }
   ],
   "source": [
    "# 第二种方式\n",
    "# get()\n",
    "print(scores.get('Lee'))\n",
    "print(scores.get('jack'))"
   ]
  },
  {
   "cell_type": "code",
   "execution_count": 20,
   "id": "a554f6fa",
   "metadata": {},
   "outputs": [],
   "source": [
    "# 两者区别？\n",
    "# get()的方式即使不存在也会输出一个None"
   ]
  },
  {
   "cell_type": "code",
   "execution_count": 21,
   "id": "6ce9de65",
   "metadata": {},
   "outputs": [
    {
     "name": "stdout",
     "output_type": "stream",
     "text": [
      "99\n"
     ]
    }
   ],
   "source": [
    "print(scores.get('marry',99))\n",
    "# 这个99就是在不存在的这个键，提供的一个默认值"
   ]
  },
  {
   "cell_type": "markdown",
   "id": "2bcae735",
   "metadata": {},
   "source": [
    "### Key的判断"
   ]
  },
  {
   "cell_type": "code",
   "execution_count": 22,
   "id": "3336c870",
   "metadata": {},
   "outputs": [
    {
     "data": {
      "text/plain": [
       "True"
      ]
     },
     "execution_count": 22,
     "metadata": {},
     "output_type": "execute_result"
    }
   ],
   "source": [
    "scores = {'Lee':100,'James':98,'Kobe':45}\n",
    "'Lee' in scores"
   ]
  },
  {
   "cell_type": "code",
   "execution_count": 24,
   "id": "b7f71328",
   "metadata": {},
   "outputs": [
    {
     "data": {
      "text/plain": [
       "False"
      ]
     },
     "execution_count": 24,
     "metadata": {},
     "output_type": "execute_result"
    }
   ],
   "source": [
    "'Lee' not in scores"
   ]
  },
  {
   "cell_type": "code",
   "execution_count": 25,
   "id": "79655704",
   "metadata": {},
   "outputs": [
    {
     "data": {
      "text/plain": [
       "{'James': 98, 'Kobe': 45}"
      ]
     },
     "execution_count": 25,
     "metadata": {},
     "output_type": "execute_result"
    }
   ],
   "source": [
    "del scores['Lee']\n",
    "scores\n",
    "# 会发现 Lee 已经被删除了，但是它是删除删一对"
   ]
  },
  {
   "cell_type": "code",
   "execution_count": null,
   "id": "b13be4a8",
   "metadata": {},
   "outputs": [],
   "source": [
    "scores.clear()\n",
    "#这是清空字典的元素，所有都清空"
   ]
  },
  {
   "cell_type": "code",
   "execution_count": 26,
   "id": "b20f7990",
   "metadata": {},
   "outputs": [
    {
     "data": {
      "text/plain": [
       "{'James': 98, 'Kobe': 45, 'll': 98}"
      ]
     },
     "execution_count": 26,
     "metadata": {},
     "output_type": "execute_result"
    }
   ],
   "source": [
    "scores['ll'] = 98\n",
    "scores\n",
    "# 会发现ll被添加进去了"
   ]
  },
  {
   "cell_type": "code",
   "execution_count": 27,
   "id": "3d210c38",
   "metadata": {},
   "outputs": [
    {
     "data": {
      "text/plain": [
       "{'James': 98, 'Kobe': 45, 'll': 100}"
      ]
     },
     "execution_count": 27,
     "metadata": {},
     "output_type": "execute_result"
    }
   ],
   "source": [
    "scores['ll'] = 100\n",
    "scores\n",
    "# 修改元素，会发现98被修改成了100"
   ]
  },
  {
   "cell_type": "markdown",
   "id": "039c4f9e",
   "metadata": {},
   "source": [
    "### 获取字典视图的三个方法"
   ]
  },
  {
   "cell_type": "code",
   "execution_count": 31,
   "id": "8c5432ac",
   "metadata": {},
   "outputs": [
    {
     "name": "stdout",
     "output_type": "stream",
     "text": [
      "dict_keys(['Lee', 'James', 'Kobe'])\n"
     ]
    },
    {
     "data": {
      "text/plain": [
       "['Lee', 'James', 'Kobe']"
      ]
     },
     "execution_count": 31,
     "metadata": {},
     "output_type": "execute_result"
    }
   ],
   "source": [
    "scores = {'Lee':100,'James':98,'Kobe':45}\n",
    "# 获取所有的key\n",
    "keys = scores.keys()\n",
    "print(keys)\n",
    "type(keys)\n",
    "list(keys) # 将所有的key组成的视图转成列表"
   ]
  },
  {
   "cell_type": "code",
   "execution_count": 33,
   "id": "5164652f",
   "metadata": {},
   "outputs": [
    {
     "name": "stdout",
     "output_type": "stream",
     "text": [
      "dict_values([100, 98, 45])\n"
     ]
    },
    {
     "data": {
      "text/plain": [
       "dict_values"
      ]
     },
     "execution_count": 33,
     "metadata": {},
     "output_type": "execute_result"
    }
   ],
   "source": [
    "# 获取所有的value\n",
    "values = scores.values()\n",
    "print(values)\n",
    "type(values)"
   ]
  },
  {
   "cell_type": "code",
   "execution_count": 34,
   "id": "12934f91",
   "metadata": {},
   "outputs": [
    {
     "data": {
      "text/plain": [
       "[100, 98, 45]"
      ]
     },
     "execution_count": 34,
     "metadata": {},
     "output_type": "execute_result"
    }
   ],
   "source": [
    "list(values)\n",
    "# 转换成了列表"
   ]
  },
  {
   "cell_type": "code",
   "execution_count": 35,
   "id": "26369fe0",
   "metadata": {},
   "outputs": [
    {
     "data": {
      "text/plain": [
       "dict_items([('Lee', 100), ('James', 98), ('Kobe', 45)])"
      ]
     },
     "execution_count": 35,
     "metadata": {},
     "output_type": "execute_result"
    }
   ],
   "source": [
    "# 获取所有的key-value对\n",
    "items = scores.items()\n",
    "items\n",
    "# 这是元组类型"
   ]
  },
  {
   "cell_type": "code",
   "execution_count": 36,
   "id": "de5f94ab",
   "metadata": {},
   "outputs": [
    {
     "data": {
      "text/plain": [
       "[('Lee', 100), ('James', 98), ('Kobe', 45)]"
      ]
     },
     "execution_count": 36,
     "metadata": {},
     "output_type": "execute_result"
    }
   ],
   "source": [
    "list(items)\n",
    "# 转成了列表，是由元组组成的\n",
    "# 小括号的就叫元组"
   ]
  },
  {
   "cell_type": "markdown",
   "id": "6fb34967",
   "metadata": {},
   "source": [
    "### 字典元素的遍历"
   ]
  },
  {
   "cell_type": "code",
   "execution_count": 39,
   "id": "6bba852d",
   "metadata": {},
   "outputs": [
    {
     "name": "stdout",
     "output_type": "stream",
     "text": [
      "Lee 100 100\n",
      "James 98 98\n",
      "Kobe 45 45\n"
     ]
    }
   ],
   "source": [
    "# item 获取的是 字典当中的键\n",
    "scores = {'Lee':100,'James':98,'Kobe':45}\n",
    "for item in scores:\n",
    "    print(item,scores[item],scores.get(item))"
   ]
  },
  {
   "cell_type": "markdown",
   "id": "a4fcebd4",
   "metadata": {},
   "source": [
    "### 字典的特点"
   ]
  },
  {
   "cell_type": "code",
   "execution_count": 40,
   "id": "6753db92",
   "metadata": {},
   "outputs": [
    {
     "data": {
      "text/plain": [
       "{'name': 'Marry'}"
      ]
     },
     "execution_count": 40,
     "metadata": {},
     "output_type": "execute_result"
    }
   ],
   "source": [
    "d = {'name':'Lee','name':'Marry'}\n",
    "d\n",
    "# key 不允许重复"
   ]
  },
  {
   "cell_type": "code",
   "execution_count": 42,
   "id": "129b2540",
   "metadata": {},
   "outputs": [
    {
     "data": {
      "text/plain": [
       "{'name': 'Lee', 'nikename': 'Lee'}"
      ]
     },
     "execution_count": 42,
     "metadata": {},
     "output_type": "execute_result"
    }
   ],
   "source": [
    "d = {'name':'Lee','nikename':'Lee'}\n",
    "d\n",
    "# value是可以重复的\n",
    "# 一旦重复会出现值覆盖的情况"
   ]
  },
  {
   "cell_type": "code",
   "execution_count": 43,
   "id": "8528b6a2",
   "metadata": {},
   "outputs": [
    {
     "data": {
      "text/plain": [
       "[10, 1000, 20, 30]"
      ]
     },
     "execution_count": 43,
     "metadata": {},
     "output_type": "execute_result"
    }
   ],
   "source": [
    "lst=[10,20,30]\n",
    "lst.insert(1,1000)\n",
    "lst\n",
    "# 字典本身是无序的，所以不能像上面这样\n",
    "# 因为字典是通过计算的，而不是我们去分配的"
   ]
  },
  {
   "cell_type": "markdown",
   "id": "8db6a0d3",
   "metadata": {},
   "source": [
    "### 字典生成式"
   ]
  },
  {
   "cell_type": "code",
   "execution_count": 48,
   "id": "a3de014f",
   "metadata": {},
   "outputs": [
    {
     "data": {
      "text/plain": [
       "{'Fruist': 96, 'Books': 78, 'Others': 85}"
      ]
     },
     "execution_count": 48,
     "metadata": {},
     "output_type": "execute_result"
    }
   ],
   "source": [
    "# 内置函数zip()\n",
    "items = ['Fruist','Books','Others']\n",
    "prices = [96,78,85]\n",
    "d = { item:price for item,price in zip(items,prices)}\n",
    "d"
   ]
  },
  {
   "cell_type": "code",
   "execution_count": 49,
   "id": "0a28ddf5",
   "metadata": {},
   "outputs": [
    {
     "data": {
      "text/plain": [
       "{'FRUIST': 96, 'BOOKS': 78, 'OTHERS': 85}"
      ]
     },
     "execution_count": 49,
     "metadata": {},
     "output_type": "execute_result"
    }
   ],
   "source": [
    "# 如果需要大写\n",
    "d = { item.upper():price for item,price in zip(items,prices)}\n",
    "d"
   ]
  },
  {
   "cell_type": "code",
   "execution_count": 50,
   "id": "9f9cbb49",
   "metadata": {},
   "outputs": [
    {
     "data": {
      "text/plain": [
       "{'Fruist': 96, 'Books': 78, 'Others': 85}"
      ]
     },
     "execution_count": 50,
     "metadata": {},
     "output_type": "execute_result"
    }
   ],
   "source": [
    "items = ['Fruist','Books','Others']\n",
    "prices = [96,78,85,50,60]\n",
    "d = { item:price for item,price in zip(items,prices)}\n",
    "d\n",
    "# 依然生成的还是三个\n",
    "# 它会以元素少的那个为基准来进行生成"
   ]
  },
  {
   "cell_type": "code",
   "execution_count": null,
   "id": "ae04f3a5",
   "metadata": {},
   "outputs": [],
   "source": []
  }
 ],
 "metadata": {
  "kernelspec": {
   "display_name": "Python 3 (ipykernel)",
   "language": "python",
   "name": "python3"
  },
  "language_info": {
   "codemirror_mode": {
    "name": "ipython",
    "version": 3
   },
   "file_extension": ".py",
   "mimetype": "text/x-python",
   "name": "python",
   "nbconvert_exporter": "python",
   "pygments_lexer": "ipython3",
   "version": "3.9.13"
  },
  "toc": {
   "base_numbering": 1,
   "nav_menu": {},
   "number_sections": true,
   "sideBar": true,
   "skip_h1_title": false,
   "title_cell": "Table of Contents",
   "title_sidebar": "Contents",
   "toc_cell": false,
   "toc_position": {},
   "toc_section_display": true,
   "toc_window_display": false
  }
 },
 "nbformat": 4,
 "nbformat_minor": 5
}
