{
 "cells": [
  {
   "cell_type": "markdown",
   "id": "d35b2266",
   "metadata": {},
   "source": [
    "# Loop statement"
   ]
  },
  {
   "cell_type": "markdown",
   "id": "8b244a10",
   "metadata": {},
   "source": [
    "## Built-in functions."
   ]
  },
  {
   "cell_type": "code",
   "execution_count": 1,
   "id": "289b239d",
   "metadata": {},
   "outputs": [],
   "source": [
    "# range() 함수\n",
    "# 정수 시퀀스를 생성하는 데 사용됩니다\n",
    "# range 객체의 3가지 방법\n",
    "\n",
    "#range() function\n",
    "\n",
    "#Used to generate a sequence of integers\n",
    "\n",
    "#Three ways to create a range object\n"
   ]
  },
  {
   "cell_type": "code",
   "execution_count": 2,
   "id": "3cc82bd3",
   "metadata": {},
   "outputs": [
    {
     "name": "stdout",
     "output_type": "stream",
     "text": [
      "range(0, 10)\n",
      "[0, 1, 2, 3, 4, 5, 6, 7, 8, 9]\n"
     ]
    }
   ],
   "source": [
    "# range 객체의 3가지 방법\n",
    "#첫 번째 생성 방법에서 매개변수가 하나만 있는 경우\n",
    "\n",
    "r=range(10) #stop 0 start，1，0，1，2，3，4。。。\n",
    "print(r) # range(0,10)\n",
    "print(list(r)) #range 객체의 요소를 확인하는 함수\n",
    "\n"
   ]
  },
  {
   "cell_type": "code",
   "execution_count": 3,
   "id": "677bfc61",
   "metadata": {},
   "outputs": [
    {
     "name": "stdout",
     "output_type": "stream",
     "text": [
      "[1, 2, 3, 4, 5, 6, 7, 8, 9]\n"
     ]
    }
   ],
   "source": [
    "# 두 번째 생성 방법에서 매개변수가 두개 있는 경우\n",
    "r=range(1,10)#指定了起始值，从1开始到10结束，(不包含10)，默认步长为1.\n",
    "print(list(r))"
   ]
  },
  {
   "cell_type": "code",
   "execution_count": 4,
   "id": "caca74d5",
   "metadata": {},
   "outputs": [
    {
     "name": "stdout",
     "output_type": "stream",
     "text": [
      "[1, 3, 5, 7, 9]\n"
     ]
    }
   ],
   "source": [
    "# 셋 번째 생성 방법에서 매개변수가 3개 있는 경우\n",
    "r=range(1,10,2)\n",
    "print(list(r))\n"
   ]
  },
  {
   "cell_type": "code",
   "execution_count": 5,
   "id": "36260f56",
   "metadata": {},
   "outputs": [
    {
     "name": "stdout",
     "output_type": "stream",
     "text": [
      "False\n",
      "True\n"
     ]
    }
   ],
   "source": [
    " # 지정된 정수가 시퀀스 내에 존재하는지 여부를 판별하는 것 in,not in\n",
    "print(10 in r) #False \n",
    "print(9 in r) #True "
   ]
  },
  {
   "cell_type": "code",
   "execution_count": 6,
   "id": "91b3ee3d",
   "metadata": {},
   "outputs": [
    {
     "name": "stdout",
     "output_type": "stream",
     "text": [
      "True\n",
      "False\n"
     ]
    }
   ],
   "source": [
    "print(10 not in r)\n",
    "print(9 not in r)\n"
   ]
  },
  {
   "cell_type": "code",
   "execution_count": 7,
   "id": "4da4e2f5",
   "metadata": {},
   "outputs": [],
   "source": [
    "\n",
    "\n",
    "# range 객체가 나타내는 정수 시퀀스가 얼마나 긴지와 관계없이, 모든 range 객체가 사용하는 메모리 공간은 동일합니다.\n",
    "# 이는 객체가 생성될 때 start, stop, step만 저장되기 때문입니다. 따라서 객체를 사용할 때까지 시퀀스의 관련 요소를 계산하지 않습니다."
   ]
  },
  {
   "cell_type": "code",
   "execution_count": 8,
   "id": "73858995",
   "metadata": {},
   "outputs": [
    {
     "name": "stdout",
     "output_type": "stream",
     "text": [
      "range(1, 20)\n",
      "range(1, 101)\n"
     ]
    }
   ],
   "source": [
    "print(range(1,20,1))# 1-19\n",
    "print(range(1,101,1))#1에서 100까지"
   ]
  },
  {
   "cell_type": "markdown",
   "id": "9eb3f7e0",
   "metadata": {},
   "source": [
    "## while loop"
   ]
  },
  {
   "cell_type": "code",
   "execution_count": 30,
   "id": "490b7172",
   "metadata": {},
   "outputs": [],
   "source": [
    "# while 루프"
   ]
  },
  {
   "cell_type": "code",
   "execution_count": 10,
   "id": "3fc54b86",
   "metadata": {},
   "outputs": [
    {
     "name": "stdout",
     "output_type": "stream",
     "text": [
      "1\n",
      "2\n",
      "3\n",
      "4\n",
      "5\n",
      "6\n",
      "7\n",
      "8\n",
      "9\n"
     ]
    }
   ],
   "source": [
    "a=1 \n",
    "\n",
    "while a<10:\n",
    "    print(a)\n",
    "    a+=1"
   ]
  },
  {
   "cell_type": "code",
   "execution_count": 11,
   "id": "56744c30",
   "metadata": {
    "scrolled": true
   },
   "outputs": [
    {
     "name": "stdout",
     "output_type": "stream",
     "text": [
      "1\n"
     ]
    }
   ],
   "source": [
    "# and if\n",
    "a=1\n",
    "if a<10:\n",
    "    print(a)\n",
    "    a+=1"
   ]
  },
  {
   "cell_type": "code",
   "execution_count": 12,
   "id": "43b8608c",
   "metadata": {},
   "outputs": [],
   "source": [
    "# if 문과 while 루프의 차이점\n",
    "\n",
    "# if 문은 한 번만 조건을 검사하며, 조건식이 참이면 문장을 실행하고 종료됩니다.\n",
    "# while 루프는 조건식이 참인 동안 N번째 반복까지 실행합니다. 조건식이 거짓이 되면 루프를 종료합니다."
   ]
  },
  {
   "cell_type": "code",
   "execution_count": 41,
   "id": "ddcd2f10",
   "metadata": {
    "scrolled": true
   },
   "outputs": [
    {
     "name": "stdout",
     "output_type": "stream",
     "text": [
      "덧셈: 10\n"
     ]
    }
   ],
   "source": [
    "\n",
    "\n",
    "#0부터 4까지의 합을 계산합니다.\n",
    "\n",
    "sum=0\n",
    "a=0\n",
    "\n",
    "\n",
    "while a < 5:\n",
    "\n",
    "    sum+=a\n",
    "    \n",
    "\n",
    "    a+=1\n",
    "print(\"덧셈:\",sum)"
   ]
  },
  {
   "cell_type": "code",
   "execution_count": 39,
   "id": "4837d1b5",
   "metadata": {},
   "outputs": [
    {
     "name": "stdout",
     "output_type": "stream",
     "text": [
      "False\n",
      "1-100 짝수 덧셈: 2500\n"
     ]
    }
   ],
   "source": [
    "# Test 1-100 짝수 덧셈\n",
    "print(bool(0))\n",
    "sum=0\n",
    "\n",
    "a=1\n",
    "\n",
    "\n",
    "while a<=100:\n",
    "  \n",
    "    if bool(a%2):\n",
    "\n",
    "        sum+=a\n",
    "        \n",
    "        \n",
    "    a+=1\n",
    "print(\"1-100 짝수 덧셈:\",sum)"
   ]
  },
  {
   "cell_type": "markdown",
   "id": "cab6885c",
   "metadata": {},
   "source": [
    "## for-in 루프"
   ]
  },
  {
   "cell_type": "code",
   "execution_count": 31,
   "id": "3c00b131",
   "metadata": {},
   "outputs": [],
   "source": [
    "# for-in 루프"
   ]
  },
  {
   "cell_type": "code",
   "execution_count": 32,
   "id": "9d2da103",
   "metadata": {},
   "outputs": [],
   "source": [
    "# for-in 루프 range()"
   ]
  },
  {
   "cell_type": "code",
   "execution_count": 17,
   "id": "f503a97f",
   "metadata": {},
   "outputs": [
    {
     "name": "stdout",
     "output_type": "stream",
     "text": [
      "p\n",
      "y\n",
      "t\n",
      "h\n",
      "o\n",
      "n\n"
     ]
    }
   ],
   "source": [
    "for item in'python':\n",
    "    print(item)\n",
    "   \n",
    "    \n"
   ]
  },
  {
   "cell_type": "code",
   "execution_count": 18,
   "id": "5b648a75",
   "metadata": {},
   "outputs": [
    {
     "name": "stdout",
     "output_type": "stream",
     "text": [
      "0\n",
      "1\n",
      "2\n",
      "3\n",
      "4\n",
      "5\n",
      "6\n",
      "7\n",
      "8\n",
      "9\n"
     ]
    }
   ],
   "source": [
    "for i in range(10):#\n",
    "    print(i)\n",
    "    "
   ]
  },
  {
   "cell_type": "code",
   "execution_count": 19,
   "id": "4a24e91d",
   "metadata": {},
   "outputs": [
    {
     "name": "stdout",
     "output_type": "stream",
     "text": [
      "winner!\n",
      "winner!\n",
      "winner!\n",
      "winner!\n",
      "winner!\n"
     ]
    }
   ],
   "source": [
    "# 또는 \"루프 바디에서 사용자 정의 변수를 사용하지 않을 경우, 사용자 정의 변수를 ''로 작성할 수 있습니다\n",
    "for _ in range(5):\n",
    "    print(\"winner!\")\n",
    "    "
   ]
  },
  {
   "cell_type": "code",
   "execution_count": 38,
   "id": "23c0c211",
   "metadata": {},
   "outputs": [
    {
     "name": "stdout",
     "output_type": "stream",
     "text": [
      "덧셈 2\n",
      "덧셈 6\n",
      "덧셈 12\n",
      "덧셈 20\n",
      "덧셈 30\n",
      "덧셈 42\n",
      "덧셈 56\n",
      "덧셈 72\n",
      "덧셈 90\n",
      "덧셈 110\n",
      "덧셈 132\n",
      "덧셈 156\n",
      "덧셈 182\n",
      "덧셈 210\n",
      "덧셈 240\n",
      "덧셈 272\n",
      "덧셈 306\n",
      "덧셈 342\n",
      "덧셈 380\n",
      "덧셈 420\n",
      "덧셈 462\n",
      "덧셈 506\n",
      "덧셈 552\n",
      "덧셈 600\n",
      "덧셈 650\n",
      "덧셈 702\n",
      "덧셈 756\n",
      "덧셈 812\n",
      "덧셈 870\n",
      "덧셈 930\n",
      "덧셈 992\n",
      "덧셈 1056\n",
      "덧셈 1122\n",
      "덧셈 1190\n",
      "덧셈 1260\n",
      "덧셈 1332\n",
      "덧셈 1406\n",
      "덧셈 1482\n",
      "덧셈 1560\n",
      "덧셈 1640\n",
      "덧셈 1722\n",
      "덧셈 1806\n",
      "덧셈 1892\n",
      "덧셈 1980\n",
      "덧셈 2070\n",
      "덧셈 2162\n",
      "덧셈 2256\n",
      "덧셈 2352\n",
      "덧셈 2450\n",
      "덧셈 2550\n"
     ]
    }
   ],
   "source": [
    "# \"for\" 루프를 사용하여 1부터 100까지의 짝수 합을 계산하는 코드입니다.\n",
    "\n",
    "sum=0 #짝수의 합을 저장하는 데 사용되는 변수\n",
    "for item in range(1,101):\n",
    "    if item %2==0:\n",
    "        sum+=item\n",
    "        \n",
    "        print(\"덧셈\",sum)"
   ]
  },
  {
   "cell_type": "code",
   "execution_count": 21,
   "id": "393d23a6",
   "metadata": {},
   "outputs": [
    {
     "name": "stdout",
     "output_type": "stream",
     "text": [
      "153\n",
      "370\n",
      "371\n",
      "407\n"
     ]
    }
   ],
   "source": [
    "# 다음은 100에서 999까지의 모든 수 중에서, 각 자릿수의 세제곱의 합이 해당 수와 같은 수인 수를 찾아내어 출력하는 코드입니다. \n",
    "# 153=3*3*3+5*5*5+1*1*1\n",
    "for item in range(100,1000):\n",
    "    ge=item%10 \n",
    "    shi=item//10%10\n",
    "    bai=item//100 \n",
    " \n",
    "    \n",
    "    \n",
    "    if ge**3+shi**3+bai**3==item:\n",
    "        print(item)"
   ]
  },
  {
   "cell_type": "code",
   "execution_count": 33,
   "id": "d4e07849",
   "metadata": {},
   "outputs": [
    {
     "name": "stdout",
     "output_type": "stream",
     "text": [
      "비밀번호를 입력하세요: 123123\n",
      "비밀번호가 틀렸습니다.\n",
      "비밀번호를 입력하세요: 21321\n",
      "비밀번호가 틀렸습니다.\n",
      "비밀번호를 입력하세요: 12321\n",
      "비밀번호가 틀렸습니다.\n",
      "로그인 시도 횟수를 모두 소진하였습니다. 나중에 다시 시도하세요.\n"
     ]
    }
   ],
   "source": [
    "# 최대 3번의 로그인 시도 기회가 주어진 경우\n",
    "for i in range(3):\n",
    "    # 사용자로부터 비밀번호 입력 받기\n",
    "    password = input(\"비밀번호를 입력하세요: \")\n",
    "\n",
    "    # 비밀번호가 맞으면 로그인 성공\n",
    "    if password == \"0724\":\n",
    "        print(\"로그인 성공!\")\n",
    "        break\n",
    "\n",
    "    # 비밀번호가 틀리면 다시 시도\n",
    "    else:\n",
    "        print(\"비밀번호가 틀렸습니다.\")\n",
    "\n",
    "# 로그인 성공하지 못한 경우\n",
    "else:\n",
    "    print(\"로그인 시도 횟수를 모두 소진하였습니다. 나중에 다시 시도하세요.\")\n"
   ]
  },
  {
   "cell_type": "code",
   "execution_count": 37,
   "id": "b4d4b839",
   "metadata": {},
   "outputs": [
    {
     "name": "stdout",
     "output_type": "stream",
     "text": [
      "비밀번호를 입력하세요:1414\n",
      "비밀번호가 틀렸습니다.\n",
      "비밀번호를 입력하세요:31414\n",
      "비밀번호가 틀렸습니다.\n",
      "비밀번호를 입력하세요:888\n",
      "로그인 성공!\n"
     ]
    }
   ],
   "source": [
    "a=0\n",
    "while a<3:\n",
    "    pwd=input(\"비밀번호를 입력하세요:\")\n",
    "    if pwd=='888':\n",
    "        print(\"로그인 성공!\")\n",
    "        break\n",
    "    else:\n",
    "        print(\"비밀번호가 틀렸습니다.\")\n",
    "        \n",
    "        \n",
    "        a+=1\n",
    "      \n",
    "        #while,위에 똑같음"
   ]
  },
  {
   "cell_type": "markdown",
   "id": "ff7e6ee8",
   "metadata": {},
   "source": [
    "## continue "
   ]
  },
  {
   "cell_type": "code",
   "execution_count": 24,
   "id": "8faf5872",
   "metadata": {},
   "outputs": [],
   "source": [
    "#用于结束当前循环，进入下一次循环，通常与分支结构汇总的if一起使用"
   ]
  },
  {
   "cell_type": "code",
   "execution_count": 34,
   "id": "1a34ab28",
   "metadata": {},
   "outputs": [
    {
     "name": "stdout",
     "output_type": "stream",
     "text": [
      "5\n",
      "10\n",
      "15\n",
      "20\n",
      "25\n",
      "30\n",
      "35\n",
      "40\n",
      "45\n",
      "50\n"
     ]
    }
   ],
   "source": [
    "# 1부터 50까지의 수 중 5의 배수인 수 출력\n",
    "for i in range(1, 51):\n",
    "    # i가 5의 배수인지 확인\n",
    "    if i % 5 == 0:\n",
    "        # 5의 배수인 경우 출력\n",
    "        print(i)"
   ]
  },
  {
   "cell_type": "code",
   "execution_count": 28,
   "id": "a9bd6729",
   "metadata": {},
   "outputs": [],
   "source": [
    "# But continue"
   ]
  },
  {
   "cell_type": "code",
   "execution_count": 30,
   "id": "9346dafd",
   "metadata": {},
   "outputs": [],
   "source": [
    "# 1부터 50까지의 수 중 5의 배수인 수 출력\n",
    "for i in range(1, 51):\n",
    "    # i가 5의 배수가 아닌 경우 continue 실행\n",
    "    if i % 5 != 0:\n",
    "        continue\n",
    "    # 5의 배수인 경우 출력\n",
    "    print(i)\n"
   ]
  },
  {
   "cell_type": "markdown",
   "id": "08b477f3",
   "metadata": {},
   "source": [
    "## else"
   ]
  },
  {
   "cell_type": "code",
   "execution_count": 1,
   "id": "b50eab4a",
   "metadata": {},
   "outputs": [],
   "source": [
    "# else"
   ]
  },
  {
   "cell_type": "code",
   "execution_count": 35,
   "id": "c7e2200c",
   "metadata": {},
   "outputs": [
    {
     "name": "stdout",
     "output_type": "stream",
     "text": [
      "비밀번호를 입력하세요:2131231\n",
      "비밀번호가 틀렸습니다.\n",
      "비밀번호를 입력하세요:12323\n",
      "비밀번호가 틀렸습니다.\n",
      "비밀번호를 입력하세요:12312\n",
      "비밀번호가 틀렸습니다.\n",
      "로그인 시도 횟수를 모두 소진하였습니다. 나중에 다시 시도하세요.\n"
     ]
    }
   ],
   "source": [
    "for item in range(3):\n",
    "    pwd=input(\"비밀번호를 입력하세요:\")\n",
    "    if pwd=='888':\n",
    "        print(\"로그인 성공!\")\n",
    "        break\n",
    "    else:\n",
    "        print(\"비밀번호가 틀렸습니다.\")\n",
    "else: #这个else 是和 for 对齐的\n",
    "    print(\"로그인 시도 횟수를 모두 소진하였습니다. 나중에 다시 시도하세요.\")"
   ]
  },
  {
   "cell_type": "code",
   "execution_count": 36,
   "id": "3bc853ba",
   "metadata": {},
   "outputs": [
    {
     "name": "stdout",
     "output_type": "stream",
     "text": [
      "비밀번호를 입력하세요:42141\n",
      "비밀번호가 틀렸습니다.\n",
      "비밀번호를 입력하세요:24\n",
      "비밀번호가 틀렸습니다.\n",
      "비밀번호를 입력하세요:124124\n",
      "비밀번호가 틀렸습니다.\n",
      "로그인 시도 횟수를 모두 소진하였습니다. 나중에 다시 시도하세요.\n"
     ]
    }
   ],
   "source": [
    "#也可以用 while 循环这样写\n",
    "a=0\n",
    "while a<3:\n",
    "    pwd=input(\"비밀번호를 입력하세요:\")\n",
    "    if pwd=='888':\n",
    "        print(\"로그인 성공!\")\n",
    "        break\n",
    "    else:\n",
    "        print(\"비밀번호가 틀렸습니다.\")\n",
    "        a+=1\n",
    "        \n",
    "else:\n",
    "    print('로그인 시도 횟수를 모두 소진하였습니다. 나중에 다시 시도하세요.')"
   ]
  },
  {
   "cell_type": "markdown",
   "id": "46ea30a8",
   "metadata": {},
   "source": [
    "## 중첩 루프"
   ]
  },
  {
   "cell_type": "code",
   "execution_count": 6,
   "id": "12b36d1d",
   "metadata": {},
   "outputs": [
    {
     "name": "stdout",
     "output_type": "stream",
     "text": [
      "*\t*\t*\t*\t\n",
      "*\t*\t*\t*\t\n",
      "*\t*\t*\t*\t\n"
     ]
    }
   ],
   "source": [
    "for i in range(1,4):\n",
    "    for j in range(1,5):\n",
    "        print('*',end='\\t')\n",
    "    print()\n",
    "    "
   ]
  },
  {
   "cell_type": "code",
   "execution_count": 19,
   "id": "99f1a3ac",
   "metadata": {
    "scrolled": true
   },
   "outputs": [
    {
     "name": "stdout",
     "output_type": "stream",
     "text": [
      "*\n",
      "**\n",
      "***\n",
      "****\n",
      "*****\n",
      "******\n",
      "*******\n",
      "********\n",
      "*********\n"
     ]
    }
   ],
   "source": [
    "for i in range(1,10):\n",
    "    \n",
    "    for j in range(1,i+1):\n",
    "        print('*',end='')\n",
    "    print()"
   ]
  },
  {
   "cell_type": "code",
   "execution_count": 22,
   "id": "0a8fc23a",
   "metadata": {},
   "outputs": [
    {
     "name": "stdout",
     "output_type": "stream",
     "text": [
      "1 * 1 = 1\t\n",
      "2 * 1 = 2\t2 * 2 = 4\t\n",
      "3 * 1 = 3\t3 * 2 = 6\t3 * 3 = 9\t\n",
      "4 * 1 = 4\t4 * 2 = 8\t4 * 3 = 12\t4 * 4 = 16\t\n",
      "5 * 1 = 5\t5 * 2 = 10\t5 * 3 = 15\t5 * 4 = 20\t5 * 5 = 25\t\n",
      "6 * 1 = 6\t6 * 2 = 12\t6 * 3 = 18\t6 * 4 = 24\t6 * 5 = 30\t6 * 6 = 36\t\n",
      "7 * 1 = 7\t7 * 2 = 14\t7 * 3 = 21\t7 * 4 = 28\t7 * 5 = 35\t7 * 6 = 42\t7 * 7 = 49\t\n",
      "8 * 1 = 8\t8 * 2 = 16\t8 * 3 = 24\t8 * 4 = 32\t8 * 5 = 40\t8 * 6 = 48\t8 * 7 = 56\t8 * 8 = 64\t\n",
      "9 * 1 = 9\t9 * 2 = 18\t9 * 3 = 27\t9 * 4 = 36\t9 * 5 = 45\t9 * 6 = 54\t9 * 7 = 63\t9 * 8 = 72\t9 * 9 = 81\t\n"
     ]
    }
   ],
   "source": [
    "for i in range(1,10):\n",
    "    for j in range(1,i+1):\n",
    "        print(i,'*',j,'=',i*j,end='\\t')\n",
    "    print()"
   ]
  },
  {
   "cell_type": "markdown",
   "id": "fbeb0290",
   "metadata": {},
   "source": [
    "## 중 루프(중첩된 루프)에서 break와 continue"
   ]
  },
  {
   "cell_type": "code",
   "execution_count": 25,
   "id": "735a007c",
   "metadata": {},
   "outputs": [
    {
     "name": "stdout",
     "output_type": "stream",
     "text": [
      "1\n",
      "1\n",
      "1\n",
      "1\n",
      "1\n"
     ]
    }
   ],
   "source": [
    "\n",
    "for i in range(5): \n",
    "    for j in range(1,11):\n",
    "        if j%2==0:\n",
    "            break\n",
    "           \n",
    "        print(j)"
   ]
  },
  {
   "cell_type": "code",
   "execution_count": 29,
   "id": "ed90492e",
   "metadata": {},
   "outputs": [
    {
     "name": "stdout",
     "output_type": "stream",
     "text": [
      "1\t3\t5\t7\t9\t\n",
      "1\t3\t5\t7\t9\t\n",
      "1\t3\t5\t7\t9\t\n",
      "1\t3\t5\t7\t9\t\n",
      "1\t3\t5\t7\t9\t\n"
     ]
    }
   ],
   "source": [
    "# continue\n",
    "for i in range(5): \n",
    "    for j in range(1,11):\n",
    "        if j%2==0:\n",
    "            continue\n",
    "         \n",
    "        print(j,end='\\t')\n",
    "    print()"
   ]
  },
  {
   "cell_type": "code",
   "execution_count": null,
   "id": "b9670600",
   "metadata": {},
   "outputs": [],
   "source": [
    "# End"
   ]
  }
 ],
 "metadata": {
  "kernelspec": {
   "display_name": "Python 3 (ipykernel)",
   "language": "python",
   "name": "python3"
  },
  "language_info": {
   "codemirror_mode": {
    "name": "ipython",
    "version": 3
   },
   "file_extension": ".py",
   "mimetype": "text/x-python",
   "name": "python",
   "nbconvert_exporter": "python",
   "pygments_lexer": "ipython3",
   "version": "3.9.13"
  },
  "toc": {
   "base_numbering": 1,
   "nav_menu": {},
   "number_sections": true,
   "sideBar": true,
   "skip_h1_title": false,
   "title_cell": "Table of Contents",
   "title_sidebar": "Contents",
   "toc_cell": false,
   "toc_position": {},
   "toc_section_display": true,
   "toc_window_display": false
  }
 },
 "nbformat": 4,
 "nbformat_minor": 5
}
