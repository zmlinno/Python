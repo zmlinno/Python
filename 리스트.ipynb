{
 "cells": [
  {
   "cell_type": "markdown",
   "id": "f89200f4",
   "metadata": {},
   "source": [
    "### 리스트에서 항목 검색하기"
   ]
  },
  {
   "cell_type": "code",
   "execution_count": 2,
   "id": "7a648e1b",
   "metadata": {},
   "outputs": [],
   "source": [
    "# 1.0에서 N-1까지 순방향 인덱스, 예시 lst[0]\n",
    "# 2.-N에서 -1까지 역방향 인덱스, 예시 lst[-N]\n",
    "# 지정한 인덱스가 없으면 IndexError가 발생합니다."
   ]
  },
  {
   "cell_type": "code",
   "execution_count": 3,
   "id": "a85f2d45",
   "metadata": {},
   "outputs": [
    {
     "name": "stdout",
     "output_type": "stream",
     "text": [
      "98\n"
     ]
    }
   ],
   "source": [
    "lst = ['hello','world',98,'hello','world',234]\n",
    "# 인덱스 2의 요소 가져오기\n",
    "print(lst[2])"
   ]
  },
  {
   "cell_type": "code",
   "execution_count": 4,
   "id": "e8a14128",
   "metadata": {},
   "outputs": [
    {
     "name": "stdout",
     "output_type": "stream",
     "text": [
      "hello\n"
     ]
    }
   ],
   "source": [
    "# 인덱스 -3의 요소 가져오기\n",
    "print(lst[-3])"
   ]
  },
  {
   "cell_type": "code",
   "execution_count": 6,
   "id": "d9c1213d",
   "metadata": {},
   "outputs": [],
   "source": [
    "# 인덱스 10의 요소 가져오기\n",
    "\n",
    "# print(lst[10])\n",
    "#  (범위 밖이므로 오류가 발생합니다.)\n"
   ]
  },
  {
   "cell_type": "markdown",
   "id": "ab91a943",
   "metadata": {},
   "source": [
    "### 여러 요소 가져오기"
   ]
  },
  {
   "cell_type": "code",
   "execution_count": 7,
   "id": "f0c2ee6b",
   "metadata": {},
   "outputs": [],
   "source": [
    "# 슬라이싱 작업\n",
    "# 리스트이름 [start : stop : step]\n",
    "# 범위 : [start,stop]"
   ]
  },
  {
   "cell_type": "code",
   "execution_count": 8,
   "id": "49b38637",
   "metadata": {},
   "outputs": [
    {
     "data": {
      "text/plain": [
       "[20, 30, 40, 50, 60]"
      ]
     },
     "execution_count": 8,
     "metadata": {},
     "output_type": "execute_result"
    }
   ],
   "source": [
    "lst = [10,20,30,40,50,60,70,80]\n",
    "lst[1:6:1]\n",
    "# step "
   ]
  },
  {
   "cell_type": "code",
   "execution_count": 9,
   "id": "b4762004",
   "metadata": {},
   "outputs": [
    {
     "data": {
      "text/plain": [
       "140327726689152"
      ]
     },
     "execution_count": 9,
     "metadata": {},
     "output_type": "execute_result"
    }
   ],
   "source": [
    "id(lst)"
   ]
  },
  {
   "cell_type": "code",
   "execution_count": 10,
   "id": "43aa57fe",
   "metadata": {},
   "outputs": [
    {
     "data": {
      "text/plain": [
       "140327992500032"
      ]
     },
     "execution_count": 10,
     "metadata": {},
     "output_type": "execute_result"
    }
   ],
   "source": [
    "lst2 = lst[1:6:1]\n",
    "id(lst2)"
   ]
  },
  {
   "cell_type": "code",
   "execution_count": 11,
   "id": "6c2636cc",
   "metadata": {},
   "outputs": [
    {
     "data": {
      "text/plain": [
       "[20, 30, 40, 50, 60]"
      ]
     },
     "execution_count": 11,
     "metadata": {},
     "output_type": "execute_result"
    }
   ],
   "source": [
    "lst[1:6]\n",
    "# 걸음(step)을 지정하지 않으면 기본 값은 1입니다."
   ]
  },
  {
   "cell_type": "code",
   "execution_count": 13,
   "id": "162fa2b4",
   "metadata": {},
   "outputs": [
    {
     "data": {
      "text/plain": [
       "[20, 30, 40, 50, 60]"
      ]
     },
     "execution_count": 13,
     "metadata": {},
     "output_type": "execute_result"
    }
   ],
   "source": [
    "lst[1:6:]\n"
   ]
  },
  {
   "cell_type": "code",
   "execution_count": 15,
   "id": "d932a061",
   "metadata": {},
   "outputs": [
    {
     "data": {
      "text/plain": [
       "[20, 40, 60]"
      ]
     },
     "execution_count": 15,
     "metadata": {},
     "output_type": "execute_result"
    }
   ],
   "source": [
    "lst[1:6:2]"
   ]
  },
  {
   "cell_type": "code",
   "execution_count": 16,
   "id": "11f4a8cb",
   "metadata": {},
   "outputs": [
    {
     "data": {
      "text/plain": [
       "[10, 30, 50]"
      ]
     },
     "execution_count": 16,
     "metadata": {},
     "output_type": "execute_result"
    }
   ],
   "source": [
    "lst[:6:2]\n",
    "# 기본적으로 0에서 시작합니다."
   ]
  },
  {
   "cell_type": "code",
   "execution_count": 17,
   "id": "6b69e9e1",
   "metadata": {},
   "outputs": [
    {
     "data": {
      "text/plain": [
       "[20, 40, 60, 80]"
      ]
     },
     "execution_count": 17,
     "metadata": {},
     "output_type": "execute_result"
    }
   ],
   "source": [
    "lst[1::2]\n",
    "# stop을 지정하지 않으면 마지막 숫자까지 잘립니다."
   ]
  },
  {
   "cell_type": "code",
   "execution_count": 21,
   "id": "e1792b3e",
   "metadata": {},
   "outputs": [
    {
     "name": "stdout",
     "output_type": "stream",
     "text": [
      "[10, 20, 30, 40, 50, 60, 70, 80]\n"
     ]
    },
    {
     "data": {
      "text/plain": [
       "[80, 70, 60, 50, 40, 30, 20, 10]"
      ]
     },
     "execution_count": 21,
     "metadata": {},
     "output_type": "execute_result"
    }
   ],
   "source": [
    "# 걸음(step)이 음수인 경우\n",
    "print(lst)\n",
    "lst[::-1]"
   ]
  },
  {
   "cell_type": "code",
   "execution_count": 22,
   "id": "79b369dc",
   "metadata": {},
   "outputs": [
    {
     "data": {
      "text/plain": [
       "[80, 70, 60, 50, 40, 30, 20, 10]"
      ]
     },
     "execution_count": 22,
     "metadata": {},
     "output_type": "execute_result"
    }
   ],
   "source": [
    "lst[7::-1]"
   ]
  },
  {
   "cell_type": "code",
   "execution_count": 23,
   "id": "5123a1be",
   "metadata": {},
   "outputs": [
    {
     "data": {
      "text/plain": [
       "[70, 50, 30]"
      ]
     },
     "execution_count": 23,
     "metadata": {},
     "output_type": "execute_result"
    }
   ],
   "source": [
    "lst[6:0:-2]"
   ]
  },
  {
   "cell_type": "markdown",
   "id": "fd002943",
   "metadata": {},
   "source": [
    "### 지정된 요소가 리스트에 있는지 확인"
   ]
  },
  {
   "cell_type": "code",
   "execution_count": null,
   "id": "8abfe0a1",
   "metadata": {},
   "outputs": [],
   "source": [
    "# in or not in "
   ]
  },
  {
   "cell_type": "code",
   "execution_count": 24,
   "id": "f6390644",
   "metadata": {},
   "outputs": [
    {
     "data": {
      "text/plain": [
       "True"
      ]
     },
     "execution_count": 24,
     "metadata": {},
     "output_type": "execute_result"
    }
   ],
   "source": [
    "'p' in 'python'"
   ]
  },
  {
   "cell_type": "code",
   "execution_count": 25,
   "id": "3c574ee4",
   "metadata": {},
   "outputs": [
    {
     "data": {
      "text/plain": [
       "True"
      ]
     },
     "execution_count": 25,
     "metadata": {},
     "output_type": "execute_result"
    }
   ],
   "source": [
    "'k' not in 'python'"
   ]
  },
  {
   "cell_type": "code",
   "execution_count": 26,
   "id": "7cbc0d42",
   "metadata": {},
   "outputs": [
    {
     "data": {
      "text/plain": [
       "True"
      ]
     },
     "execution_count": 26,
     "metadata": {},
     "output_type": "execute_result"
    }
   ],
   "source": [
    "lst = [10,20,'python','hello']\n",
    "10 in lst"
   ]
  },
  {
   "cell_type": "code",
   "execution_count": 27,
   "id": "6792f969",
   "metadata": {},
   "outputs": [
    {
     "data": {
      "text/plain": [
       "False"
      ]
     },
     "execution_count": 27,
     "metadata": {},
     "output_type": "execute_result"
    }
   ],
   "source": [
    "100 in lst "
   ]
  },
  {
   "cell_type": "code",
   "execution_count": 28,
   "id": "c456b615",
   "metadata": {},
   "outputs": [
    {
     "data": {
      "text/plain": [
       "False"
      ]
     },
     "execution_count": 28,
     "metadata": {},
     "output_type": "execute_result"
    }
   ],
   "source": [
    "10 not in lst "
   ]
  },
  {
   "cell_type": "code",
   "execution_count": 30,
   "id": "e3d0f521",
   "metadata": {},
   "outputs": [
    {
     "name": "stdout",
     "output_type": "stream",
     "text": [
      "10\n",
      "20\n",
      "python\n",
      "hello\n"
     ]
    }
   ],
   "source": [
    "for item in lst:\n",
    "    print(item)\n",
    "    # item은 리스트의 요소를 하나씩 출력할 수 있습니다.\n",
    "    # 리스트 요소 반복"
   ]
  },
  {
   "cell_type": "markdown",
   "id": "0888199b",
   "metadata": {},
   "source": [
    "### 리스트 요소 추가 작업"
   ]
  },
  {
   "cell_type": "code",
   "execution_count": 33,
   "id": "e25b965b",
   "metadata": {},
   "outputs": [
    {
     "name": "stdout",
     "output_type": "stream",
     "text": [
      "[10, 20, 30] 140328566710784\n",
      "[10, 20, 30, 100] 140328566710784\n"
     ]
    }
   ],
   "source": [
    " # append를 사용하여 요소를 리스트 끝에 추가합니다.\n",
    "lst = [10,20,30]\n",
    "print(lst,id(lst))\n",
    " # append 요소를 추가 한 후\n",
    "lst.append(100)\n",
    "print(lst,id(lst))\n",
    "\n",
    "# id 일치\n"
   ]
  },
  {
   "cell_type": "code",
   "execution_count": 37,
   "id": "db0c86f0",
   "metadata": {},
   "outputs": [
    {
     "data": {
      "text/plain": [
       "[10,\n",
       " 20,\n",
       " 30,\n",
       " 100,\n",
       " ['hello', 'world'],\n",
       " 'hello',\n",
       " 'world',\n",
       " ['hello', 'world'],\n",
       " ['hello', 'world']]"
      ]
     },
     "execution_count": 37,
     "metadata": {},
     "output_type": "execute_result"
    }
   ],
   "source": [
    "# extend()\n",
    "# 리스트에 하나 이상의 요소 추가\n",
    "lst2 = [\"hello\",\"world\"]\n",
    "lst.append(lst2)\n",
    "lst\n",
    "# lst를 리스트의 요소로 끝에 추가합니다."
   ]
  },
  {
   "cell_type": "code",
   "execution_count": 39,
   "id": "79a93daa",
   "metadata": {},
   "outputs": [
    {
     "data": {
      "text/plain": [
       "[10,\n",
       " 20,\n",
       " 30,\n",
       " 100,\n",
       " ['hello', 'world'],\n",
       " 'hello',\n",
       " 'world',\n",
       " ['hello', 'world'],\n",
       " ['hello', 'world'],\n",
       " ['hello', 'world'],\n",
       " 'hello',\n",
       " 'world']"
      ]
     },
     "execution_count": 39,
     "metadata": {},
     "output_type": "execute_result"
    }
   ],
   "source": [
    "# extend()를 사용하여 여러 요소를 한 번에 추가합니다.\n",
    "lst2 = [\"hello\",\"world\"]\n",
    "lst.extend(lst2)\n",
    "lst"
   ]
  },
  {
   "cell_type": "code",
   "execution_count": 40,
   "id": "4472f540",
   "metadata": {},
   "outputs": [
    {
     "data": {
      "text/plain": [
       "[10,\n",
       " 20,\n",
       " 30,\n",
       " 100,\n",
       " ['hello', 'world'],\n",
       " 'hello',\n",
       " 'world',\n",
       " ['hello', 'world'],\n",
       " ['hello', 'world'],\n",
       " ['hello', 'world'],\n",
       " 'hello',\n",
       " 'world',\n",
       " 10,\n",
       " 20,\n",
       " 30,\n",
       " 100,\n",
       " ['hello', 'world'],\n",
       " 'hello',\n",
       " 'world',\n",
       " ['hello', 'world'],\n",
       " ['hello', 'world'],\n",
       " ['hello', 'world'],\n",
       " 'hello',\n",
       " 'world']"
      ]
     },
     "execution_count": 40,
     "metadata": {},
     "output_type": "execute_result"
    }
   ],
   "source": [
    "# insert()를 사용하여 리스트의 임의 위치에 요소를 추가합니다.\n",
    "lst.extend(lst)\n",
    "lst"
   ]
  },
  {
   "cell_type": "code",
   "execution_count": 41,
   "id": "3c32b318",
   "metadata": {},
   "outputs": [
    {
     "data": {
      "text/plain": [
       "[10,\n",
       " 20,\n",
       " 88,\n",
       " 30,\n",
       " 100,\n",
       " ['hello', 'world'],\n",
       " 'hello',\n",
       " 'world',\n",
       " ['hello', 'world'],\n",
       " ['hello', 'world'],\n",
       " ['hello', 'world'],\n",
       " 'hello',\n",
       " 'world',\n",
       " 10,\n",
       " 20,\n",
       " 30,\n",
       " 100,\n",
       " ['hello', 'world'],\n",
       " 'hello',\n",
       " 'world',\n",
       " ['hello', 'world'],\n",
       " ['hello', 'world'],\n",
       " ['hello', 'world'],\n",
       " 'hello',\n",
       " 'world']"
      ]
     },
     "execution_count": 41,
     "metadata": {},
     "output_type": "execute_result"
    }
   ],
   "source": [
    "lst.insert(2,88)\n",
    "lst"
   ]
  },
  {
   "cell_type": "code",
   "execution_count": 46,
   "id": "ba9e9db8",
   "metadata": {},
   "outputs": [
    {
     "data": {
      "text/plain": [
       "[True, True, False, 'hello']"
      ]
     },
     "execution_count": 46,
     "metadata": {},
     "output_type": "execute_result"
    }
   ],
   "source": [
    "# 슬라이스를 사용하여 리스트의 임의 위치에 하나 이상의 요소를 추가합니다.\n",
    "lst3 = [True,False,'hello']\n",
    "# 임의 위치에 N개 이상의 요소를 추가합니다.\n",
    "lst[1:] = lst3\n",
    "lst"
   ]
  },
  {
   "cell_type": "markdown",
   "id": "e4337024",
   "metadata": {},
   "source": [
    "### 리스트 요소 삭제 작업"
   ]
  },
  {
   "cell_type": "code",
   "execution_count": 56,
   "id": "62cdab09",
   "metadata": {},
   "outputs": [
    {
     "data": {
      "text/plain": [
       "[10, 20, 40, 50, 60, 30]"
      ]
     },
     "execution_count": 56,
     "metadata": {},
     "output_type": "execute_result"
    }
   ],
   "source": [
    "lst = [10,20,30,40,50,60,30]\n",
    "lst.remove(30)\n",
    "lst\n",
    "# 리스트에서 요소를 제거하면 중복 요소가있는 경우 첫 번째 요소 만 제거됩니다."
   ]
  },
  {
   "cell_type": "code",
   "execution_count": 57,
   "id": "04869285",
   "metadata": {},
   "outputs": [],
   "source": [
    "# 예를 들어 삭제할 요소가 없으면\n",
    "# lst.remove(100)\n",
    "# 그러면 오류가 발생합니다."
   ]
  },
  {
   "cell_type": "code",
   "execution_count": 50,
   "id": "42588f6d",
   "metadata": {},
   "outputs": [
    {
     "data": {
      "text/plain": [
       "[10, 40, 50, 60, 30]"
      ]
     },
     "execution_count": 50,
     "metadata": {},
     "output_type": "execute_result"
    }
   ],
   "source": [
    "\n",
    "lst.pop(1)\n",
    "lst\n",
    "# 인덱스를 지정하지 않으면 제거할 수 없으므로 오류가 발생합니다."
   ]
  },
  {
   "cell_type": "code",
   "execution_count": 58,
   "id": "a34f446c",
   "metadata": {},
   "outputs": [
    {
     "data": {
      "text/plain": [
       "[10, 20, 40, 50, 60]"
      ]
     },
     "execution_count": 58,
     "metadata": {},
     "output_type": "execute_result"
    }
   ],
   "source": [
    "lst.pop()\n",
    "lst\n",
    "# 지정하지 않으면 마지막 요소가 기본적으로 제거됩니다."
   ]
  },
  {
   "cell_type": "code",
   "execution_count": 59,
   "id": "8bfffcdf",
   "metadata": {},
   "outputs": [
    {
     "name": "stdout",
     "output_type": "stream",
     "text": [
      "[10, 20, 40, 50, 60]\n"
     ]
    },
    {
     "data": {
      "text/plain": [
       "[20, 40]"
      ]
     },
     "execution_count": 59,
     "metadata": {},
     "output_type": "execute_result"
    }
   ],
   "source": [
    "# 슬라이싱 작업을 사용하면 하나 이상의 요소가 제거되어 새 리스트 객체가 생성됩니다.\n",
    "new_lst = lst[1:3]\n",
    "print(lst)\n",
    "new_lst"
   ]
  },
  {
   "cell_type": "code",
   "execution_count": 60,
   "id": "1152db73",
   "metadata": {},
   "outputs": [
    {
     "data": {
      "text/plain": [
       "[10, 50, 60]"
      ]
     },
     "execution_count": 60,
     "metadata": {},
     "output_type": "execute_result"
    }
   ],
   "source": [
    "\n",
    "lst[1:3] = []\n",
    "lst\n",
    "# 실제로는 삭제하는 것이 아니라 빈 리스트로 대체됩니다."
   ]
  },
  {
   "cell_type": "code",
   "execution_count": 61,
   "id": "f48aedef",
   "metadata": {},
   "outputs": [
    {
     "name": "stdout",
     "output_type": "stream",
     "text": [
      "[]\n"
     ]
    }
   ],
   "source": [
    "# clear()를 사용하여 리스트에서 모든 요소를 지울 수 있습니다.\n",
    "lst.clear()\n",
    "print(lst)\n"
   ]
  },
  {
   "cell_type": "code",
   "execution_count": 66,
   "id": "8facc67c",
   "metadata": {},
   "outputs": [
    {
     "ename": "NameError",
     "evalue": "name 'lst' is not defined",
     "output_type": "error",
     "traceback": [
      "\u001b[0;31m---------------------------------------------------------------------------\u001b[0m",
      "\u001b[0;31mNameError\u001b[0m                                 Traceback (most recent call last)",
      "\u001b[0;32m/var/folders/0y/9ngk9zq509d_968nb4blyvrm0000gn/T/ipykernel_997/2824930161.py\u001b[0m in \u001b[0;36m<module>\u001b[0;34m\u001b[0m\n\u001b[1;32m      1\u001b[0m \u001b[0;31m# del语句将列表直接删除\u001b[0m\u001b[0;34m\u001b[0m\u001b[0;34m\u001b[0m\u001b[0m\n\u001b[0;32m----> 2\u001b[0;31m \u001b[0;32mdel\u001b[0m \u001b[0mlst\u001b[0m\u001b[0;34m\u001b[0m\u001b[0;34m\u001b[0m\u001b[0m\n\u001b[0m\u001b[1;32m      3\u001b[0m \u001b[0;31m#lst\u001b[0m\u001b[0;34m\u001b[0m\u001b[0;34m\u001b[0m\u001b[0m\n",
      "\u001b[0;31mNameError\u001b[0m: name 'lst' is not defined"
     ]
    }
   ],
   "source": [
    "# del 문을 사용하여 리스트를 직접 삭제합니다.\n",
    "del lst\n",
    "#lst\n"
   ]
  },
  {
   "cell_type": "markdown",
   "id": "0e8a1866",
   "metadata": {},
   "source": [
    "### 리스트 요소 수정 작업"
   ]
  },
  {
   "cell_type": "code",
   "execution_count": 67,
   "id": "1d8377f0",
   "metadata": {},
   "outputs": [
    {
     "data": {
      "text/plain": [
       "[10, 20, 100, 40]"
      ]
     },
     "execution_count": 67,
     "metadata": {},
     "output_type": "execute_result"
    }
   ],
   "source": [
    "lst = [10,20,30,40]\n",
    "# 하나의 값만 수정하면 됩니다.\n",
    "lst[2] = 100\n",
    "lst"
   ]
  },
  {
   "cell_type": "code",
   "execution_count": 68,
   "id": "4b01ddd5",
   "metadata": {},
   "outputs": [
    {
     "data": {
      "text/plain": [
       "[10, 200, 400, 500, 600, 40]"
      ]
     },
     "execution_count": 68,
     "metadata": {},
     "output_type": "execute_result"
    }
   ],
   "source": [
    "lst[1:3] = [200,400,500,600]\n",
    "lst\n",
    "# 여러 값을 수정합니다."
   ]
  },
  {
   "cell_type": "markdown",
   "id": "7b67d905",
   "metadata": {},
   "source": [
    "### 리스트 요소 정렬 작업"
   ]
  },
  {
   "cell_type": "code",
   "execution_count": 72,
   "id": "6a894f44",
   "metadata": {},
   "outputs": [
    {
     "data": {
      "text/plain": [
       "([20, 40, 10, 98, 54], 140328276187840)"
      ]
     },
     "execution_count": 72,
     "metadata": {},
     "output_type": "execute_result"
    }
   ],
   "source": [
    "lst = [20,40,10,98,54]\n",
    "lst,id(lst)"
   ]
  },
  {
   "cell_type": "code",
   "execution_count": 73,
   "id": "2e500b71",
   "metadata": {},
   "outputs": [
    {
     "data": {
      "text/plain": [
       "([10, 20, 40, 54, 98], 140328276187840)"
      ]
     },
     "execution_count": 73,
     "metadata": {},
     "output_type": "execute_result"
    }
   ],
   "source": [
    "# 정렬 시작\n",
    "# sort 메서드를 호출하면 기본적으로 오름차순으로 정렬됩니다.\n",
    "lst.sort()\n",
    "lst,id(lst)\n",
    "# 아래는 정렬 후입니다.\n",
    "# 모든 id가 동일하다는 것을 알 수 있습니다"
   ]
  },
  {
   "cell_type": "code",
   "execution_count": 74,
   "id": "c485f318",
   "metadata": {},
   "outputs": [
    {
     "data": {
      "text/plain": [
       "[98, 54, 40, 20, 10]"
      ]
     },
     "execution_count": 74,
     "metadata": {},
     "output_type": "execute_result"
    }
   ],
   "source": [
    "# 키워드 인수를 사용하여 리스트 요소를 내림차순으로 정렬합니다.\n",
    "lst.sort(reverse = True)\n",
    "lst"
   ]
  },
  {
   "cell_type": "code",
   "execution_count": 75,
   "id": "1bfc10df",
   "metadata": {},
   "outputs": [
    {
     "data": {
      "text/plain": [
       "[10, 20, 40, 54, 98]"
      ]
     },
     "execution_count": 75,
     "metadata": {},
     "output_type": "execute_result"
    }
   ],
   "source": [
    "lst.sort(reverse = False)\n",
    "lst\n",
    "# False이면 오름차순으로"
   ]
  },
  {
   "cell_type": "code",
   "execution_count": 76,
   "id": "39022e84",
   "metadata": {},
   "outputs": [
    {
     "data": {
      "text/plain": [
       "[20, 40, 10, 98, 54]"
      ]
     },
     "execution_count": 76,
     "metadata": {},
     "output_type": "execute_result"
    }
   ],
   "source": [
    "# 리스트를 정렬하는 내장 함수 sortde를 사용하면 새로운 리스트 개체가 생성됩니다\n",
    "lst = [20,40,10,98,54]\n",
    "lst"
   ]
  },
  {
   "cell_type": "code",
   "execution_count": 77,
   "id": "f13dcd82",
   "metadata": {},
   "outputs": [
    {
     "name": "stdout",
     "output_type": "stream",
     "text": [
      "[20, 40, 10, 98, 54]\n",
      "[10, 20, 40, 54, 98]\n"
     ]
    }
   ],
   "source": [
    "new_lst = sorted(lst)\n",
    "print(lst)\n",
    "print(new_lst)"
   ]
  },
  {
   "cell_type": "code",
   "execution_count": 78,
   "id": "65bf8f09",
   "metadata": {},
   "outputs": [
    {
     "data": {
      "text/plain": [
       "[98, 54, 40, 20, 10]"
      ]
     },
     "execution_count": 78,
     "metadata": {},
     "output_type": "execute_result"
    }
   ],
   "source": [
    "# 키워드 인자를 지정하여 리스트 요소를 내림차순으로 정렬합니다.\n",
    "desc_list = sorted(lst,reverse = True)\n",
    "desc_list"
   ]
  },
  {
   "cell_type": "code",
   "execution_count": 79,
   "id": "81083d39",
   "metadata": {},
   "outputs": [],
   "source": [
    "# 차이?\n",
    "# sort 메소드는 원래 리스트를 정렬합니다.\n",
    "# 내장 함수 sorted()는 새로운 리스트 개체를 생성하고 원래 리스트는 변경되지 않습니다."
   ]
  },
  {
   "cell_type": "markdown",
   "id": "a4cd42a6",
   "metadata": {},
   "source": [
    "### 리스트 컴프리헨션"
   ]
  },
  {
   "cell_type": "code",
   "execution_count": 80,
   "id": "7c614c64",
   "metadata": {},
   "outputs": [
    {
     "data": {
      "text/plain": [
       "[1, 2, 3, 4, 5, 6, 7, 8, 9]"
      ]
     },
     "execution_count": 80,
     "metadata": {},
     "output_type": "execute_result"
    }
   ],
   "source": [
    "lst = [i for i in range(1,10)]\n",
    "lst"
   ]
  },
  {
   "cell_type": "code",
   "execution_count": 82,
   "id": "3b1156c7",
   "metadata": {},
   "outputs": [
    {
     "data": {
      "text/plain": [
       "[1, 4, 9, 16, 25, 36, 49, 64, 81]"
      ]
     },
     "execution_count": 82,
     "metadata": {},
     "output_type": "execute_result"
    }
   ],
   "source": [
    "lst = [i*i for i in range(1,10)]\n",
    "lst"
   ]
  },
  {
   "cell_type": "code",
   "execution_count": 84,
   "id": "6a44274c",
   "metadata": {},
   "outputs": [
    {
     "data": {
      "text/plain": [
       "[2, 4, 6, 8, 10]"
      ]
     },
     "execution_count": 84,
     "metadata": {},
     "output_type": "execute_result"
    }
   ],
   "source": [
    "lst2 = [i*2 for i in range(1,6)]\n",
    "lst2"
   ]
  },
  {
   "cell_type": "code",
   "execution_count": null,
   "id": "96d38096",
   "metadata": {},
   "outputs": [],
   "source": []
  }
 ],
 "metadata": {
  "kernelspec": {
   "display_name": "Python 3 (ipykernel)",
   "language": "python",
   "name": "python3"
  },
  "language_info": {
   "codemirror_mode": {
    "name": "ipython",
    "version": 3
   },
   "file_extension": ".py",
   "mimetype": "text/x-python",
   "name": "python",
   "nbconvert_exporter": "python",
   "pygments_lexer": "ipython3",
   "version": "3.9.13"
  },
  "toc": {
   "base_numbering": 1,
   "nav_menu": {},
   "number_sections": true,
   "sideBar": true,
   "skip_h1_title": false,
   "title_cell": "Table of Contents",
   "title_sidebar": "Contents",
   "toc_cell": false,
   "toc_position": {},
   "toc_section_display": true,
   "toc_window_display": false
  }
 },
 "nbformat": 4,
 "nbformat_minor": 5
}
